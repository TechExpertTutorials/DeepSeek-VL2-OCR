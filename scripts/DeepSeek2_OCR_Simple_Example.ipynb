{
 "cells": [
  {
   "cell_type": "markdown",
   "metadata": {},
   "source": [
    "conda env remove -n deepseek-ai\n",
    "\n",
    "conda create -n deepseek-ai -c conda-forge -y  \n",
    "conda activate deepseek-ai   \n",
    "conda install python=3.10 numpy=1.26.4 pillow ipykernel jupyter nb_conda_kernels ipywidgets -c conda-forge -y  \n",
    "conda install pytorch=2.0.1 -c conda-forge -y\n",
    "pip install git+https://github.com/huggingface/transformers \n",
    "pip install xformers==0.0.21\n",
    "\n",
    "pip3 install torch==2.0.1+cu118 torchaudio==2.0.2+cu118 torchvision==0.15.2+cu118 --index-url https://download.pytorch.org/whl/cu118  \n",
    "\n",
    "git clone https://github.com/deepseek-ai/DeepSeek-VL2\n",
    "cd DeepSeek-VL2\n",
    "pip install -e .\n",
    "\n",
    "python -m ipykernel install [--user] --prefix=C:\\Users\\techexpert\\.conda\\envs\\deepseek-ai --name deepseek-ai  "
   ]
  },
  {
   "cell_type": "code",
   "execution_count": null,
   "metadata": {},
   "outputs": [],
   "source": [
    "import torch\n",
    "\n",
    "if torch.cuda.is_available():\n",
    "    print(\"CUDA is available! 🎉\")\n",
    "    device = torch.device(\"cuda\")  # Set device to CUDA\n",
    "else:\n",
    "    print(\"CUDA is NOT available. 🙁\")\n",
    "    device = torch.device(\"cpu\")  # Set device to CPU (or raise an exception)\n",
    "\n",
    "from transformers import AutoModelForCausalLM\n",
    "from PIL import Image\n",
    "\n",
    "from deepseek_vl2.models import DeepseekVLV2Processor, DeepseekVLV2ForCausalLM\n",
    "from deepseek_vl2.utils.io import load_pil_images"
   ]
  },
  {
   "cell_type": "markdown",
   "metadata": {},
   "source": [
    "specify the path to the model \n",
    " \n",
    "Alternates:\n",
    "model_path = \"deepseek-ai/deepseek-vl2\"  \n",
    "model_path = \"deepseek-ai/deepseek-vl2-small\"  "
   ]
  },
  {
   "cell_type": "code",
   "execution_count": null,
   "metadata": {},
   "outputs": [],
   "source": [
    "model_path = \"deepseek-ai/deepseek-vl2-tiny\""
   ]
  },
  {
   "cell_type": "code",
   "execution_count": null,
   "metadata": {},
   "outputs": [],
   "source": [
    "vl_chat_processor: DeepseekVLV2Processor = DeepseekVLV2Processor.from_pretrained(model_path)"
   ]
  },
  {
   "cell_type": "code",
   "execution_count": null,
   "metadata": {},
   "outputs": [],
   "source": [
    "tokenizer = vl_chat_processor.tokenizer"
   ]
  },
  {
   "cell_type": "markdown",
   "metadata": {},
   "source": [
    "downloads the model to cache folder: C:\\Users\\techexpert\\.cache\\huggingface\\hub  "
   ]
  },
  {
   "cell_type": "code",
   "execution_count": null,
   "metadata": {},
   "outputs": [],
   "source": [
    "vl_gpt: DeepseekVLV2ForCausalLM = AutoModelForCausalLM.from_pretrained(model_path, trust_remote_code=True)"
   ]
  },
  {
   "cell_type": "code",
   "execution_count": null,
   "metadata": {},
   "outputs": [],
   "source": [
    "vl_gpt = vl_gpt.to(device) # Move to GPU first\n",
    "vl_gpt = vl_gpt.to(torch.bfloat16)  # Then change precision\n",
    "vl_gpt.eval() # Set to eval mode"
   ]
  },
  {
   "cell_type": "code",
   "execution_count": null,
   "metadata": {},
   "outputs": [],
   "source": [
    "# image = Image.open('..\\images\\dl1.jpg').convert('RGB')\n",
    "# prompt = \"Extract all text found on the image.\"\n",
    "\n",
    "image = Image.open('..\\images\\WalmartReceipt.png').convert('RGB')\n",
    "prompt = \"Extract all text found on the image.\"\n",
    "\n",
    "# image = Image.open('..\\images\\animals.jpg').convert('RGB')\n",
    "# \"Describe the image.\""
   ]
  },
  {
   "cell_type": "markdown",
   "metadata": {},
   "source": [
    "single image conversation example  "
   ]
  },
  {
   "cell_type": "code",
   "execution_count": null,
   "metadata": {},
   "outputs": [],
   "source": [
    "conversation = [\n",
    "    {\n",
    "        \"role\": \"<|User|>\",\n",
    "        \"content\": f\"<image>\\n|ref|>{prompt}<|/ref|>.\",\n",
    "        \"images\": [image],\n",
    "    },\n",
    "    {\"role\": \"<|Assistant|>\", \"content\": \"\"},\n",
    "]"
   ]
  },
  {
   "cell_type": "markdown",
   "metadata": {},
   "source": [
    "load images and prepare for inputs  \n",
    "also move the model to GPU  "
   ]
  },
  {
   "cell_type": "code",
   "execution_count": null,
   "metadata": {},
   "outputs": [],
   "source": [
    "model_inputs = vl_chat_processor(\n",
    "    conversations=conversation,\n",
    "    images=[image],\n",
    "    force_batchify=True,\n",
    "    system_prompt=\"\"\n",
    ").to(vl_gpt.device)"
   ]
  },
  {
   "cell_type": "markdown",
   "metadata": {},
   "source": [
    "run image encoder to get the image embeddings  "
   ]
  },
  {
   "cell_type": "code",
   "execution_count": null,
   "metadata": {},
   "outputs": [],
   "source": [
    "inputs_embeds = vl_gpt.prepare_inputs_embeds(**model_inputs)"
   ]
  },
  {
   "cell_type": "markdown",
   "metadata": {},
   "source": [
    "run the model to get the response  \n",
    "Important for inference:   \n",
    "Don't calculate gradients as the model parameters are not updated during inference,   \n",
    "and this will save time and memory   "
   ]
  },
  {
   "cell_type": "code",
   "execution_count": null,
   "metadata": {},
   "outputs": [],
   "source": [
    "with torch.no_grad():\n",
    "    outputs = vl_gpt.language.generate(\n",
    "        inputs_embeds=inputs_embeds,\n",
    "        attention_mask=model_inputs.attention_mask,\n",
    "        pad_token_id=tokenizer.eos_token_id,\n",
    "        bos_token_id=tokenizer.bos_token_id,\n",
    "        eos_token_id=tokenizer.eos_token_id,\n",
    "        max_new_tokens=2048,\n",
    "        do_sample=False,\n",
    "        use_cache=True\n",
    "    )"
   ]
  },
  {
   "cell_type": "code",
   "execution_count": null,
   "metadata": {},
   "outputs": [],
   "source": [
    "response = tokenizer.decode(outputs[0].tolist(), skip_special_tokens=True)"
   ]
  },
  {
   "cell_type": "code",
   "execution_count": null,
   "metadata": {},
   "outputs": [],
   "source": [
    "print(f\"{model_inputs['sft_format'][0]}\", response)"
   ]
  },
  {
   "cell_type": "code",
   "execution_count": null,
   "metadata": {},
   "outputs": [],
   "source": []
  }
 ],
 "metadata": {
  "kernelspec": {
   "display_name": "deepseek-ai",
   "language": "python",
   "name": "deepseek-ai"
  },
  "language_info": {
   "codemirror_mode": {
    "name": "ipython",
    "version": 3
   },
   "file_extension": ".py",
   "mimetype": "text/x-python",
   "name": "python",
   "nbconvert_exporter": "python",
   "pygments_lexer": "ipython3",
   "version": "3.10.16"
  }
 },
 "nbformat": 4,
 "nbformat_minor": 2
}
